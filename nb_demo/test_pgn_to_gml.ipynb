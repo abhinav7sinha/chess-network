{
 "cells": [
  {
   "cell_type": "code",
   "execution_count": 1,
   "metadata": {},
   "outputs": [],
   "source": [
    "import chess.pgn\n",
    "import networkx as nx"
   ]
  },
  {
   "cell_type": "code",
   "execution_count": 25,
   "metadata": {},
   "outputs": [],
   "source": [
    "pgn=open('carlsen-caruana-2018.pgn')\n",
    "game=chess.pgn.read_game(pgn)\n",
    "diGraph=nx.DiGraph()\n",
    "while game:\n",
    "    prev=game.board().fen()\n",
    "    diGraph.add_node(prev)\n",
    "    while game.next():\n",
    "        game=game.next()\n",
    "        curr=game.board().fen()\n",
    "        diGraph.add_node(curr)\n",
    "        diGraph.add_edge(prev, curr)\n",
    "        prev=curr\n",
    "    game=chess.pgn.read_game(pgn)\n",
    "nx.write_gml(diGraph, 'carlsen-caruana-2018.gml')"
   ]
  }
 ],
 "metadata": {
  "kernelspec": {
   "display_name": "Python 3 (ipykernel)",
   "language": "python",
   "name": "python3"
  },
  "language_info": {
   "codemirror_mode": {
    "name": "ipython",
    "version": 3
   },
   "file_extension": ".py",
   "mimetype": "text/x-python",
   "name": "python",
   "nbconvert_exporter": "python",
   "pygments_lexer": "ipython3",
   "version": "3.9.7"
  }
 },
 "nbformat": 4,
 "nbformat_minor": 4
}
